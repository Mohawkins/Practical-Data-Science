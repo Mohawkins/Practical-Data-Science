{
  "nbformat": 4,
  "nbformat_minor": 0,
  "metadata": {
    "colab": {
      "provenance": [],
      "authorship_tag": "ABX9TyMIVixMzIHuKBGBC48QcZXH",
      "include_colab_link": true
    },
    "kernelspec": {
      "name": "python3",
      "display_name": "Python 3"
    },
    "language_info": {
      "name": "python"
    }
  },
  "cells": [
    {
      "cell_type": "markdown",
      "metadata": {
        "id": "view-in-github",
        "colab_type": "text"
      },
      "source": [
        "<a href=\"https://colab.research.google.com/github/Mohawkins/Practical-Data-Science/blob/main/In_House_Custom_App.ipynb\" target=\"_parent\"><img src=\"https://colab.research.google.com/assets/colab-badge.svg\" alt=\"Open In Colab\"/></a>"
      ]
    },
    {
      "cell_type": "code",
      "execution_count": 1,
      "metadata": {
        "id": "I3Q-d6gQZNdE"
      },
      "outputs": [],
      "source": [
        "import requests"
      ]
    },
    {
      "cell_type": "code",
      "source": [
        "from urllib.parse import urlparse"
      ],
      "metadata": {
        "id": "aB1euWiJjCEN"
      },
      "execution_count": 19,
      "outputs": []
    },
    {
      "cell_type": "code",
      "source": [
        "def evaluate_url(url):\n",
        "    # Add your code here to evaluate the URL.\n",
        "    # Example\n",
        "    print(url)\n",
        "    pass"
      ],
      "metadata": {
        "id": "FZk1fREqjWxO"
      },
      "execution_count": 23,
      "outputs": []
    },
    {
      "cell_type": "code",
      "source": [
        "from urllib.parse import urlparse\n",
        "parsed_url = urlparse(\"https://budibase.com/blog/inside-it/in-house-software-development/\")"
      ],
      "metadata": {
        "id": "oJxDruv3jmK2"
      },
      "execution_count": 26,
      "outputs": []
    },
    {
      "cell_type": "code",
      "source": [
        "result = {}"
      ],
      "metadata": {
        "id": "ZiiPgniPkS0Y"
      },
      "execution_count": 28,
      "outputs": []
    },
    {
      "cell_type": "code",
      "source": [
        "result[\"valid\"] = True"
      ],
      "metadata": {
        "id": "agj59-qokiGl"
      },
      "execution_count": 31,
      "outputs": []
    },
    {
      "cell_type": "code",
      "source": [
        "parsed_url = urlparse(\"https://budibase.com/blog/inside-it/in-house-software-development/\")"
      ],
      "metadata": {
        "id": "OvU1g1Hsm9wR"
      },
      "execution_count": 39,
      "outputs": []
    },
    {
      "cell_type": "code",
      "source": [
        "url_string = parsed_url.geturl() # Get the original URL string from the parsed URL object"
      ],
      "metadata": {
        "id": "hwBRQNZInCTU"
      },
      "execution_count": 40,
      "outputs": []
    },
    {
      "cell_type": "code",
      "source": [
        "result = evaluate_url(url_string) # Call the function and store the returned value in result"
      ],
      "metadata": {
        "colab": {
          "base_uri": "https://localhost:8080/"
        },
        "id": "sQCVkf6vnGtc",
        "outputId": "9515ec5b-d26c-4e83-bc22-2432e83785b2"
      },
      "execution_count": 41,
      "outputs": [
        {
          "output_type": "stream",
          "name": "stdout",
          "text": [
            "https://budibase.com/blog/inside-it/in-house-software-development/\n"
          ]
        }
      ]
    },
    {
      "cell_type": "code",
      "source": [
        "print(result) # Print the content of the result dictionary"
      ],
      "metadata": {
        "colab": {
          "base_uri": "https://localhost:8080/"
        },
        "id": "D3UfVURHnLQt",
        "outputId": "9f922aee-b73a-413c-c0ac-b0c1058b8269"
      },
      "execution_count": 42,
      "outputs": [
        {
          "output_type": "stream",
          "name": "stdout",
          "text": [
            "None\n"
          ]
        }
      ]
    }
  ]
}